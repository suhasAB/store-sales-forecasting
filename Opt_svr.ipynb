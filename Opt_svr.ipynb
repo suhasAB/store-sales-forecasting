{
 "cells": [
  {
   "cell_type": "code",
   "execution_count": 1,
   "metadata": {
    "execution": {
     "iopub.execute_input": "2022-11-20T21:42:39.19589Z",
     "iopub.status.busy": "2022-11-20T21:42:39.195291Z",
     "iopub.status.idle": "2022-11-20T21:42:41.191513Z",
     "shell.execute_reply": "2022-11-20T21:42:41.190364Z",
     "shell.execute_reply.started": "2022-11-20T21:42:39.195769Z"
    },
    "id": "wIgQxMc3H0qU"
   },
   "outputs": [],
   "source": [
    "import numpy as np \n",
    "import pandas as pd \n",
    "import matplotlib.pyplot as plt\n",
    "import seaborn as sns\n",
    "import re\n",
    "import xgboost\n",
    "\n",
    "from pandas.api.types import CategoricalDtype\n",
    "\n",
    "from sklearn.preprocessing import OneHotEncoder\n",
    "from sklearn.compose import ColumnTransformer\n",
    "from sklearn.pipeline import Pipeline\n",
    "from sklearn.model_selection import train_test_split\n",
    "from sklearn.metrics import mean_squared_log_error\n",
    "from sklearn.linear_model import LinearRegression\n",
    "from sklearn.ensemble import RandomForestRegressor\n",
    "\n",
    "from statsmodels.graphics.tsaplots import plot_pacf\n",
    "from xgboost import XGBRegressor\n",
    "import lightgbm"
   ]
  },
  {
   "cell_type": "code",
   "execution_count": 2,
   "metadata": {},
   "outputs": [],
   "source": [
    "all_csv = pd.read_csv('cleaned.csv.gz',\n",
    "                 dtype = {\n",
    "                     'store_nbr' : 'category',\n",
    "                     'family' : 'category',\n",
    "                     'sales': 'float',\n",
    "                     'city': 'category',\n",
    "                     'state': 'category',\n",
    "                     'type': 'category',\n",
    "                     'holiday_type': 'category',\n",
    "                     'holiday_transferred': 'category'\n",
    "                 },\n",
    "                  parse_dates=['date'])\n",
    "all_csv['date'] = pd.to_datetime(all_csv['date']).dt.to_period('D')"
   ]
  },
  {
   "cell_type": "code",
   "execution_count": 3,
   "metadata": {},
   "outputs": [],
   "source": [
    "all = all_csv.copy()  # we can start experimenting from here without reloading the csv file"
   ]
  },
  {
   "cell_type": "code",
   "execution_count": 4,
   "metadata": {},
   "outputs": [],
   "source": [
    "# this is for experimentation\n",
    "\n",
    "filter_by_stores = None  # note: please use string here (unlike Mine.ipynb)\n",
    "filter_by_family = None\n",
    "filter_by_dates = None\n",
    "\n",
    "#filter_by_stores = ['15']  # note: please use string here (unlike Mine.ipynb)\n",
    "#filter_by_family = ['PRODUCE', 'AUTOMOBILE']\n",
    "#filter_by_dates = '2014-06-05'"
   ]
  },
  {
   "cell_type": "code",
   "execution_count": 5,
   "metadata": {},
   "outputs": [],
   "source": [
    "if filter_by_dates == None:\n",
    "    train_start_date = '2015-06-15'\n",
    "else:\n",
    "    train_start_date = filter_by_dates\n",
    "train_end_date = '2017-08-15'\n",
    "test_start_date = '2017-08-16'\n",
    "test_end_date = '2017-08-31'"
   ]
  },
  {
   "cell_type": "code",
   "execution_count": 6,
   "metadata": {},
   "outputs": [],
   "source": [
    "if filter_by_family != None:\n",
    "    all = all[all['family'].isin(filter_by_family)]\n",
    "if filter_by_stores != None:\n",
    "    all = all[all['store_nbr'].isin(filter_by_stores)]\n",
    "if filter_by_dates != None:\n",
    "    all = all[all['date'] >= filter_by_dates]"
   ]
  },
  {
   "cell_type": "code",
   "execution_count": 7,
   "metadata": {},
   "outputs": [
    {
     "data": {
      "text/plain": [
       "['1', '10', '11', '12', '13', ..., '54', '6', '7', '8', '9']\n",
       "Length: 54\n",
       "Categories (54, object): ['1', '10', '11', '12', ..., '6', '7', '8', '9']"
      ]
     },
     "execution_count": 7,
     "metadata": {},
     "output_type": "execute_result"
    }
   ],
   "source": [
    "all['store_nbr'].unique()"
   ]
  },
  {
   "cell_type": "code",
   "execution_count": 8,
   "metadata": {},
   "outputs": [
    {
     "name": "stdout",
     "output_type": "stream",
     "text": [
      "<class 'pandas.core.frame.DataFrame'>\n",
      "RangeIndex: 3036528 entries, 0 to 3036527\n",
      "Data columns (total 38 columns):\n",
      " #   Column               Dtype    \n",
      "---  ------               -----    \n",
      " 0   date                 period[D]\n",
      " 1   store_nbr            category \n",
      " 2   family               category \n",
      " 3   sales                float64  \n",
      " 4   onpromotion          int64    \n",
      " 5   sales_lag_01         float64  \n",
      " 6   sales_lag_02         float64  \n",
      " 7   sales_lag_03         float64  \n",
      " 8   sales_lag_04         float64  \n",
      " 9   sales_lag_05         float64  \n",
      " 10  sales_lag_06         float64  \n",
      " 11  sales_lag_07         float64  \n",
      " 12  sales_lag_08         float64  \n",
      " 13  sales_lag_09         float64  \n",
      " 14  sales_lag_10         float64  \n",
      " 15  sales_lag_11         float64  \n",
      " 16  sales_lag_12         float64  \n",
      " 17  sales_lag_13         float64  \n",
      " 18  sales_lag_14         float64  \n",
      " 19  sales_lag_15         float64  \n",
      " 20  sales_lag_16         float64  \n",
      " 21  sales_lag_17         float64  \n",
      " 22  sales_lag_18         float64  \n",
      " 23  sales_lag_19         float64  \n",
      " 24  sales_lag_20         float64  \n",
      " 25  city                 category \n",
      " 26  state                category \n",
      " 27  type                 category \n",
      " 28  cluster              int64    \n",
      " 29  month                int64    \n",
      " 30  day_of_month         int64    \n",
      " 31  day_of_year          int64    \n",
      " 32  week_of_year         int64    \n",
      " 33  day_of_week          int64    \n",
      " 34  weekday              int64    \n",
      " 35  year                 int64    \n",
      " 36  holiday_type         category \n",
      " 37  holiday_transferred  category \n",
      "dtypes: category(7), float64(21), int64(9), period[D](1)\n",
      "memory usage: 738.4 MB\n"
     ]
    }
   ],
   "source": [
    "all.info(verbose=True)"
   ]
  },
  {
   "cell_type": "markdown",
   "metadata": {},
   "source": [
    "## One Hot Encoding"
   ]
  },
  {
   "cell_type": "code",
   "execution_count": 9,
   "metadata": {},
   "outputs": [],
   "source": [
    "def one_hot_encode(df):\n",
    "    ohe = OneHotEncoder()\n",
    "    #ohe.fit_transform(df[column])\n",
    "    return pd.get_dummies(data=df, columns=['store_nbr', 'family', 'city', 'state', 'type',\n",
    "                                     'cluster', 'holiday_type', 'holiday_transferred', 'weekday'])    "
   ]
  },
  {
   "cell_type": "code",
   "execution_count": 10,
   "metadata": {
    "scrolled": true
   },
   "outputs": [],
   "source": [
    "all_ohe = one_hot_encode(all)\n",
    "all_ohe = all_ohe.rename(columns = lambda x:re.sub('[^A-Za-z0-9_]+', '', x))  # remove bad char in column names\n",
    "\n",
    "X = all_ohe[all_ohe['date'] <= train_end_date]\n",
    "X = X.drop(['sales'], axis=1)\n",
    "y = all_ohe[['date', 'sales']][all_ohe['date'] <= train_end_date]\n",
    "y.set_index('date', inplace=True)\n",
    "\n",
    "X_test = all_ohe[all_ohe['date'] >= test_start_date]\n",
    "X_test = X_test.drop(['sales'], axis=1)\n",
    "\n",
    "X.drop('date', axis=1, inplace=True)\n",
    "X_test.drop('date', axis=1, inplace=True)\n",
    "y.set_index(X.index, inplace=True)\n",
    "\n",
    "X_train, X_val, y_train, y_val = train_test_split(X, y, random_state=1)"
   ]
  },
  {
   "cell_type": "markdown",
   "metadata": {},
   "source": [
    "## Experiment I -- SVR"
   ]
  },
  {
   "cell_type": "markdown",
   "metadata": {},
   "source": []
  },
  {
   "cell_type": "code",
   "execution_count": null,
   "metadata": {},
   "outputs": [],
   "source": []
  },
  {
   "cell_type": "code",
   "execution_count": null,
   "metadata": {},
   "outputs": [],
   "source": [
    "from sklearn.svm import SVR\n",
    "from sklearn.preprocessing import RobustScaler\n",
    "from sklearn.ensemble import RandomForestRegressor, VotingRegressor\n",
    "from sklearn.linear_model import Ridge\n",
    "from sklearn.pipeline import make_pipeline\n",
    "import sklearn"
   ]
  },
  {
   "cell_type": "code",
   "execution_count": null,
   "metadata": {},
   "outputs": [],
   "source": [
    "ridge = make_pipeline(RobustScaler(),Ridge(alpha=31.0, random_state=1))\n",
    "svr = make_pipeline(RobustScaler(),SVR(C=1.68, epsilon=0.09, gamma=0.07))\n",
    "model = VotingRegressor([('ridge', ridge), ('svr', svr)])\n",
    "# y = sklearn.utils.validation.column_or_1d(y_train, warn=True)\n",
    "model.fit(X_train, y_train.values.ravel(), eval_set=[(X_train, y_train.values.ravel()), (X_val, y_val.values.ravel())],verbose=True)"
   ]
  },
  {
   "cell_type": "code",
   "execution_count": null,
   "metadata": {},
   "outputs": [],
   "source": [
    "y_pred_train = model.predict(X_train)\n",
    "y_pred_train[y_pred_train < 0] = 0\n",
    "y_pred_val = model.predict(X_val)\n",
    "y_pred_val[y_pred_val < 0] = 0\n",
    "\n",
    "print(\"RMS log-error train: \", np.sqrt(mean_squared_log_error(y_train, y_pred_train)))\n",
    "print(\"RMS log-error val: \", np.sqrt(mean_squared_log_error(y_val, y_pred_val)))"
   ]
  },
  {
   "cell_type": "markdown",
   "metadata": {},
   "source": [
    "## Test (Moment of Truth)"
   ]
  },
  {
   "cell_type": "code",
   "execution_count": null,
   "metadata": {},
   "outputs": [],
   "source": [
    "def main_predict(model, X_test):\n",
    "    X_test_mod = X_test.copy()\n",
    "    output = np.array([])\n",
    "    start_day, end_day = X_test['day_of_month'].min(), X_test['day_of_month'].max()\n",
    "        # we lost the dates, but we still have day_of_month, which is good enough for our experiment\n",
    "        \n",
    "    for day in range(start_day, end_day + 1):\n",
    "        pred = model.predict(X_test_mod[X_test_mod['day_of_month'] == day])\n",
    "        pred[pred < 0] = 0\n",
    "        print(pred)\n",
    "        output = np.concatenate([output, pred], axis=0)\n",
    "        for future in range(day + 1, end_day + 1):\n",
    "            X_test_mod.loc[X_test_mod[X_test_mod['day_of_month'] == future].index,\n",
    "                           f'sales_lag_{(future - day):02d}'] = pred\n",
    "            # fill out future values now that this sales figure is available\n",
    "            \n",
    "    return output"
   ]
  },
  {
   "cell_type": "code",
   "execution_count": null,
   "metadata": {},
   "outputs": [],
   "source": [
    "y_pred_test = main_predict(lgb, X_test)"
   ]
  },
  {
   "cell_type": "code",
   "execution_count": null,
   "metadata": {},
   "outputs": [],
   "source": [
    "delta_index = 3008016 - 3000888  # we inserted 4 Christmas days, 4 x 54 x 33 = 7128, which is the difference\n",
    "submission = pd.DataFrame({'id': X_test.index - delta_index, 'sales': np.expm1(y_pred_test)})\n",
    "submission.to_csv('submission.csv', index=False)"
   ]
  },
  {
   "cell_type": "code",
   "execution_count": null,
   "metadata": {},
   "outputs": [],
   "source": []
  },
  {
   "cell_type": "markdown",
   "metadata": {},
   "source": []
  }
 ],
 "metadata": {
  "kernelspec": {
   "display_name": "Python 3 (ipykernel)",
   "language": "python",
   "name": "python3"
  },
  "language_info": {
   "codemirror_mode": {
    "name": "ipython",
    "version": 3
   },
   "file_extension": ".py",
   "mimetype": "text/x-python",
   "name": "python",
   "nbconvert_exporter": "python",
   "pygments_lexer": "ipython3",
   "version": "3.9.7"
  },
  "vscode": {
   "interpreter": {
    "hash": "40d3a090f54c6569ab1632332b64b2c03c39dcf918b08424e98f38b5ae0af88f"
   }
  }
 },
 "nbformat": 4,
 "nbformat_minor": 4
}
