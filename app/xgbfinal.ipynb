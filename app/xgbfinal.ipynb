{
 "cells": [
  {
   "cell_type": "code",
   "execution_count": 28,
   "id": "be879aea",
   "metadata": {},
   "outputs": [],
   "source": [
    "import numpy as np \n",
    "import pandas as pd \n",
    "import matplotlib.pyplot as plt\n",
    "import seaborn as sns\n",
    "import re\n",
    "import xgboost\n",
    "\n",
    "from pandas.api.types import CategoricalDtype\n",
    "\n",
    "from sklearn.preprocessing import OneHotEncoder\n",
    "from sklearn.compose import ColumnTransformer\n",
    "from sklearn.pipeline import Pipeline\n",
    "from sklearn.model_selection import train_test_split\n",
    "from sklearn.metrics import mean_squared_log_error\n",
    "from sklearn.linear_model import LinearRegression\n",
    "from sklearn.ensemble import RandomForestRegressor\n",
    "\n",
    "from statsmodels.graphics.tsaplots import plot_pacf\n",
    "from xgboost import XGBRegressor\n",
    "import lightgbm\n",
    "from sklearn.model_selection import GridSearchCV\n",
    "import joblib\n",
    "import logging\n",
    "# import keras"
   ]
  },
  {
   "cell_type": "code",
   "execution_count": 29,
   "id": "56ae908e",
   "metadata": {},
   "outputs": [],
   "source": [
    "all_csv = pd.read_csv('cleaned.csv.gz',\n",
    "                 dtype = {\n",
    "                     'store_nbr' : 'category',\n",
    "                     'family' : 'category',\n",
    "                     'sales': 'float',\n",
    "                     'city': 'category',\n",
    "                     'state': 'category',\n",
    "                     'type': 'category',\n",
    "                     'holiday_type': 'category',\n",
    "                     'holiday_transferred': 'category'\n",
    "                 },\n",
    "                  parse_dates=['date'])\n",
    "all_csv['date'] = pd.to_datetime(all_csv['date']).dt.to_period('D')"
   ]
  },
  {
   "cell_type": "code",
   "execution_count": 30,
   "id": "17c57be4",
   "metadata": {},
   "outputs": [],
   "source": [
    "all = all_csv.copy()  # we can start experimenting from here without reloading the csv file"
   ]
  },
  {
   "cell_type": "code",
   "execution_count": 31,
   "id": "98137c3d",
   "metadata": {},
   "outputs": [],
   "source": [
    "# this is for experimentation\n",
    "\n",
    "filter_by_stores = None  # note: please use string here (unlike Mine.ipynb)\n",
    "filter_by_family = None\n",
    "filter_by_dates = None\n",
    "\n",
    "#filter_by_stores = ['1', '2']  # note: please use string here (unlike Mine.ipynb)\n",
    "#filter_by_family = ['DAIRY', 'PRODUCE']\n",
    "#filter_by_family = ['']\n",
    "#filter_by_dates = '2014-06-05'"
   ]
  },
  {
   "cell_type": "code",
   "execution_count": 32,
   "id": "29b9b96f",
   "metadata": {},
   "outputs": [],
   "source": [
    "if filter_by_dates == None:\n",
    "    train_start_date = '2013-01-01'\n",
    "else:\n",
    "    train_start_date = filter_by_dates\n",
    "train_end_date = '2017-08-15'\n",
    "test_start_date = '2017-08-16'\n",
    "test_end_date = '2017-08-31'"
   ]
  },
  {
   "cell_type": "code",
   "execution_count": 33,
   "id": "35fc278a",
   "metadata": {},
   "outputs": [],
   "source": [
    "if filter_by_family != None:\n",
    "    all = all[all['family'].isin(filter_by_family)]\n",
    "if filter_by_stores != None:\n",
    "    all = all[all['store_nbr'].isin(filter_by_stores)]\n",
    "if filter_by_dates != None:\n",
    "    all = all[all['date'] >= filter_by_dates]"
   ]
  },
  {
   "cell_type": "code",
   "execution_count": 34,
   "id": "5f8372f1",
   "metadata": {},
   "outputs": [
    {
     "name": "stdout",
     "output_type": "stream",
     "text": [
      "<class 'pandas.core.frame.DataFrame'>\n",
      "RangeIndex: 3036528 entries, 0 to 3036527\n",
      "Data columns (total 38 columns):\n",
      " #   Column               Dtype    \n",
      "---  ------               -----    \n",
      " 0   date                 period[D]\n",
      " 1   store_nbr            category \n",
      " 2   family               category \n",
      " 3   sales                float64  \n",
      " 4   onpromotion          int64    \n",
      " 5   sales_lag_01         float64  \n",
      " 6   sales_lag_02         float64  \n",
      " 7   sales_lag_03         float64  \n",
      " 8   sales_lag_04         float64  \n",
      " 9   sales_lag_05         float64  \n",
      " 10  sales_lag_06         float64  \n",
      " 11  sales_lag_07         float64  \n",
      " 12  sales_lag_08         float64  \n",
      " 13  sales_lag_09         float64  \n",
      " 14  sales_lag_10         float64  \n",
      " 15  sales_lag_11         float64  \n",
      " 16  sales_lag_12         float64  \n",
      " 17  sales_lag_13         float64  \n",
      " 18  sales_lag_14         float64  \n",
      " 19  sales_lag_15         float64  \n",
      " 20  sales_lag_16         float64  \n",
      " 21  sales_lag_17         float64  \n",
      " 22  sales_lag_18         float64  \n",
      " 23  sales_lag_19         float64  \n",
      " 24  sales_lag_20         float64  \n",
      " 25  city                 category \n",
      " 26  state                category \n",
      " 27  type                 category \n",
      " 28  cluster              int64    \n",
      " 29  month                int64    \n",
      " 30  day_of_month         int64    \n",
      " 31  day_of_year          int64    \n",
      " 32  week_of_year         int64    \n",
      " 33  day_of_week          int64    \n",
      " 34  weekday              int64    \n",
      " 35  year                 int64    \n",
      " 36  holiday_type         category \n",
      " 37  holiday_transferred  category \n",
      "dtypes: category(7), float64(21), int64(9), period[D](1)\n",
      "memory usage: 738.4 MB\n"
     ]
    }
   ],
   "source": [
    "all.info(verbose=True)"
   ]
  },
  {
   "cell_type": "code",
   "execution_count": 35,
   "id": "55add5d4",
   "metadata": {},
   "outputs": [],
   "source": [
    "def one_hot_encode(df):\n",
    "    return pd.get_dummies(data=df, columns=['store_nbr', 'family', 'city', 'state', 'type',\n",
    "                                     'cluster', 'holiday_type', 'holiday_transferred', 'weekday']) "
   ]
  },
  {
   "cell_type": "code",
   "execution_count": 38,
   "id": "fcd1521f",
   "metadata": {},
   "outputs": [],
   "source": [
    "all_ohe = one_hot_encode(all)\n",
    "all_ohe = all_ohe.rename(columns = lambda x:re.sub('[^A-Za-z0-9_]+', '', x))  # remove bad char in column names\n",
    "\n",
    "X = all_ohe[all_ohe['date'] <= train_end_date]\n",
    "X = X.drop(['sales'], axis=1)\n",
    "y = all_ohe[['date', 'sales']][all_ohe['date'] <= train_end_date]\n",
    "y.set_index('date', inplace=True)\n",
    "\n",
    "X_test = all_ohe[all_ohe['date'] >= test_start_date]\n",
    "X_test = X_test.drop(['sales'], axis=1)\n",
    "\n",
    "X.drop('date', axis=1, inplace=True)\n",
    "X_test.drop('date', axis=1, inplace=True)\n",
    "y.set_index(X.index, inplace=True)\n",
    "\n",
    "# from sklearn.decomposition import PCA\n",
    "# pca = PCA(n_components=180)\n",
    "# principalComponents = pca.fit_transform(X)\n",
    "# principalDf = pd.DataFrame(data = principalComponents)\n",
    "\n",
    "X_train, X_val, y_train, y_val = train_test_split(X, y, random_state=1)"
   ]
  },
  {
   "cell_type": "code",
   "execution_count": null,
   "id": "a6fee082",
   "metadata": {},
   "outputs": [],
   "source": [
    "\n",
    "# from sklearn.decomposition import PCA\n",
    "# pca = PCA(n_components=180)\n",
    "# principalComponents = pca.fit_transform(X)\n",
    "# principalDf = pd.DataFrame(data = principalComponents)"
   ]
  },
  {
   "cell_type": "code",
   "execution_count": null,
   "id": "222b02d0",
   "metadata": {},
   "outputs": [],
   "source": [
    "# X_train, X_val, y_train, y_val = train_test_split(principalDf, y, random_state=1)"
   ]
  },
  {
   "cell_type": "code",
   "execution_count": null,
   "id": "49f97972",
   "metadata": {},
   "outputs": [],
   "source": [
    "# X_train.columns.size"
   ]
  },
  {
   "cell_type": "markdown",
   "id": "938d121e",
   "metadata": {},
   "source": [
    "XGBoost"
   ]
  },
  {
   "cell_type": "code",
   "execution_count": 39,
   "id": "4bd8cc36",
   "metadata": {},
   "outputs": [
    {
     "name": "stdout",
     "output_type": "stream",
     "text": [
      "[12:22:58] WARNING: src/objective/regression_obj.cu:152: reg:linear is now deprecated in favor of reg:squarederror.\n",
      "[0]\tvalidation_0-rmse:2.36204\tvalidation_1-rmse:2.36777\n",
      "[1]\tvalidation_0-rmse:1.47818\tvalidation_1-rmse:1.48185\n",
      "[2]\tvalidation_0-rmse:0.970803\tvalidation_1-rmse:0.973856\n",
      "[3]\tvalidation_0-rmse:0.692293\tvalidation_1-rmse:0.695077\n",
      "[4]\tvalidation_0-rmse:0.557023\tvalidation_1-rmse:0.559747\n",
      "[5]\tvalidation_0-rmse:0.496438\tvalidation_1-rmse:0.498558\n",
      "[6]\tvalidation_0-rmse:0.470354\tvalidation_1-rmse:0.472591\n",
      "[7]\tvalidation_0-rmse:0.45842\tvalidation_1-rmse:0.460446\n",
      "[8]\tvalidation_0-rmse:0.452052\tvalidation_1-rmse:0.453944\n",
      "[9]\tvalidation_0-rmse:0.448984\tvalidation_1-rmse:0.450909\n",
      "[10]\tvalidation_0-rmse:0.446967\tvalidation_1-rmse:0.44886\n",
      "[11]\tvalidation_0-rmse:0.445542\tvalidation_1-rmse:0.447475\n",
      "[12]\tvalidation_0-rmse:0.443623\tvalidation_1-rmse:0.445501\n",
      "[13]\tvalidation_0-rmse:0.442402\tvalidation_1-rmse:0.44425\n",
      "[14]\tvalidation_0-rmse:0.441134\tvalidation_1-rmse:0.442886\n",
      "[15]\tvalidation_0-rmse:0.440038\tvalidation_1-rmse:0.441878\n",
      "[16]\tvalidation_0-rmse:0.437443\tvalidation_1-rmse:0.439267\n",
      "[17]\tvalidation_0-rmse:0.435257\tvalidation_1-rmse:0.437061\n",
      "[18]\tvalidation_0-rmse:0.434837\tvalidation_1-rmse:0.436671\n",
      "[19]\tvalidation_0-rmse:0.433432\tvalidation_1-rmse:0.435225\n",
      "[20]\tvalidation_0-rmse:0.431849\tvalidation_1-rmse:0.433637\n",
      "[21]\tvalidation_0-rmse:0.431507\tvalidation_1-rmse:0.433303\n",
      "[22]\tvalidation_0-rmse:0.429712\tvalidation_1-rmse:0.431506\n",
      "[23]\tvalidation_0-rmse:0.428837\tvalidation_1-rmse:0.430782\n",
      "[24]\tvalidation_0-rmse:0.428383\tvalidation_1-rmse:0.430353\n",
      "[25]\tvalidation_0-rmse:0.427331\tvalidation_1-rmse:0.42928\n",
      "[26]\tvalidation_0-rmse:0.426011\tvalidation_1-rmse:0.427963\n",
      "[27]\tvalidation_0-rmse:0.425276\tvalidation_1-rmse:0.427206\n",
      "[28]\tvalidation_0-rmse:0.424593\tvalidation_1-rmse:0.42648\n",
      "[29]\tvalidation_0-rmse:0.42422\tvalidation_1-rmse:0.426129\n",
      "[30]\tvalidation_0-rmse:0.423648\tvalidation_1-rmse:0.425555\n",
      "[31]\tvalidation_0-rmse:0.422562\tvalidation_1-rmse:0.424468\n",
      "[32]\tvalidation_0-rmse:0.421446\tvalidation_1-rmse:0.423394\n",
      "[33]\tvalidation_0-rmse:0.420845\tvalidation_1-rmse:0.422846\n",
      "[34]\tvalidation_0-rmse:0.420398\tvalidation_1-rmse:0.422376\n",
      "[35]\tvalidation_0-rmse:0.419966\tvalidation_1-rmse:0.421948\n",
      "[36]\tvalidation_0-rmse:0.418867\tvalidation_1-rmse:0.420791\n",
      "[37]\tvalidation_0-rmse:0.41853\tvalidation_1-rmse:0.420461\n",
      "[38]\tvalidation_0-rmse:0.418129\tvalidation_1-rmse:0.420055\n",
      "[39]\tvalidation_0-rmse:0.417728\tvalidation_1-rmse:0.419623\n",
      "[40]\tvalidation_0-rmse:0.417309\tvalidation_1-rmse:0.419232\n",
      "[41]\tvalidation_0-rmse:0.416893\tvalidation_1-rmse:0.418799\n",
      "[42]\tvalidation_0-rmse:0.416448\tvalidation_1-rmse:0.418394\n",
      "[43]\tvalidation_0-rmse:0.415755\tvalidation_1-rmse:0.417738\n",
      "[44]\tvalidation_0-rmse:0.415271\tvalidation_1-rmse:0.417265\n",
      "[45]\tvalidation_0-rmse:0.414846\tvalidation_1-rmse:0.416823\n",
      "[46]\tvalidation_0-rmse:0.414316\tvalidation_1-rmse:0.416312\n",
      "[47]\tvalidation_0-rmse:0.414029\tvalidation_1-rmse:0.416031\n",
      "[48]\tvalidation_0-rmse:0.413782\tvalidation_1-rmse:0.415797\n",
      "[49]\tvalidation_0-rmse:0.413486\tvalidation_1-rmse:0.415515\n",
      "[50]\tvalidation_0-rmse:0.413022\tvalidation_1-rmse:0.415053\n",
      "[51]\tvalidation_0-rmse:0.412833\tvalidation_1-rmse:0.414904\n",
      "[52]\tvalidation_0-rmse:0.412325\tvalidation_1-rmse:0.414417\n",
      "[53]\tvalidation_0-rmse:0.412051\tvalidation_1-rmse:0.414179\n",
      "[54]\tvalidation_0-rmse:0.411767\tvalidation_1-rmse:0.413884\n",
      "[55]\tvalidation_0-rmse:0.411373\tvalidation_1-rmse:0.413526\n",
      "[56]\tvalidation_0-rmse:0.411123\tvalidation_1-rmse:0.413248\n",
      "[57]\tvalidation_0-rmse:0.410914\tvalidation_1-rmse:0.413019\n",
      "[58]\tvalidation_0-rmse:0.410646\tvalidation_1-rmse:0.412827\n",
      "[59]\tvalidation_0-rmse:0.4103\tvalidation_1-rmse:0.412472\n",
      "[60]\tvalidation_0-rmse:0.410053\tvalidation_1-rmse:0.412228\n",
      "[61]\tvalidation_0-rmse:0.409681\tvalidation_1-rmse:0.411927\n",
      "[62]\tvalidation_0-rmse:0.409495\tvalidation_1-rmse:0.411743\n",
      "[63]\tvalidation_0-rmse:0.409067\tvalidation_1-rmse:0.411309\n",
      "[64]\tvalidation_0-rmse:0.408646\tvalidation_1-rmse:0.410886\n",
      "[65]\tvalidation_0-rmse:0.408372\tvalidation_1-rmse:0.410621\n",
      "[66]\tvalidation_0-rmse:0.408116\tvalidation_1-rmse:0.410373\n",
      "[67]\tvalidation_0-rmse:0.407808\tvalidation_1-rmse:0.410078\n",
      "[68]\tvalidation_0-rmse:0.407599\tvalidation_1-rmse:0.409874\n",
      "[69]\tvalidation_0-rmse:0.407343\tvalidation_1-rmse:0.409618\n",
      "[70]\tvalidation_0-rmse:0.407063\tvalidation_1-rmse:0.409375\n",
      "[71]\tvalidation_0-rmse:0.406918\tvalidation_1-rmse:0.409261\n",
      "[72]\tvalidation_0-rmse:0.406749\tvalidation_1-rmse:0.409087\n",
      "[73]\tvalidation_0-rmse:0.406588\tvalidation_1-rmse:0.40893\n",
      "[74]\tvalidation_0-rmse:0.406214\tvalidation_1-rmse:0.408525\n",
      "[75]\tvalidation_0-rmse:0.406122\tvalidation_1-rmse:0.408438\n",
      "[76]\tvalidation_0-rmse:0.40597\tvalidation_1-rmse:0.408271\n",
      "[77]\tvalidation_0-rmse:0.405774\tvalidation_1-rmse:0.408097\n",
      "[78]\tvalidation_0-rmse:0.405468\tvalidation_1-rmse:0.407874\n",
      "[79]\tvalidation_0-rmse:0.405255\tvalidation_1-rmse:0.407702\n",
      "[80]\tvalidation_0-rmse:0.40516\tvalidation_1-rmse:0.407611\n",
      "[81]\tvalidation_0-rmse:0.404892\tvalidation_1-rmse:0.407367\n",
      "[82]\tvalidation_0-rmse:0.404686\tvalidation_1-rmse:0.407166\n",
      "[83]\tvalidation_0-rmse:0.404526\tvalidation_1-rmse:0.406998\n",
      "[84]\tvalidation_0-rmse:0.404342\tvalidation_1-rmse:0.406845\n",
      "[85]\tvalidation_0-rmse:0.404202\tvalidation_1-rmse:0.406702\n",
      "[86]\tvalidation_0-rmse:0.404036\tvalidation_1-rmse:0.406543\n",
      "[87]\tvalidation_0-rmse:0.403842\tvalidation_1-rmse:0.406364\n",
      "[88]\tvalidation_0-rmse:0.40372\tvalidation_1-rmse:0.406263\n",
      "[89]\tvalidation_0-rmse:0.403627\tvalidation_1-rmse:0.406178\n",
      "[90]\tvalidation_0-rmse:0.403287\tvalidation_1-rmse:0.405835\n",
      "[91]\tvalidation_0-rmse:0.403068\tvalidation_1-rmse:0.40561\n",
      "[92]\tvalidation_0-rmse:0.402857\tvalidation_1-rmse:0.405401\n",
      "[93]\tvalidation_0-rmse:0.402716\tvalidation_1-rmse:0.405296\n",
      "[94]\tvalidation_0-rmse:0.402544\tvalidation_1-rmse:0.40514\n",
      "[95]\tvalidation_0-rmse:0.402413\tvalidation_1-rmse:0.405008\n",
      "[96]\tvalidation_0-rmse:0.402185\tvalidation_1-rmse:0.404764\n",
      "[97]\tvalidation_0-rmse:0.40201\tvalidation_1-rmse:0.404588\n",
      "[98]\tvalidation_0-rmse:0.401812\tvalidation_1-rmse:0.404388\n",
      "[99]\tvalidation_0-rmse:0.401699\tvalidation_1-rmse:0.404286\n",
      "[100]\tvalidation_0-rmse:0.401312\tvalidation_1-rmse:0.403908\n",
      "[101]\tvalidation_0-rmse:0.401149\tvalidation_1-rmse:0.40375\n",
      "[102]\tvalidation_0-rmse:0.40108\tvalidation_1-rmse:0.403705\n",
      "[103]\tvalidation_0-rmse:0.400972\tvalidation_1-rmse:0.403613\n",
      "[104]\tvalidation_0-rmse:0.400918\tvalidation_1-rmse:0.403548\n",
      "[105]\tvalidation_0-rmse:0.400751\tvalidation_1-rmse:0.403407\n",
      "[106]\tvalidation_0-rmse:0.400614\tvalidation_1-rmse:0.403256\n",
      "[107]\tvalidation_0-rmse:0.400481\tvalidation_1-rmse:0.403134\n",
      "[108]\tvalidation_0-rmse:0.400283\tvalidation_1-rmse:0.402918\n",
      "[109]\tvalidation_0-rmse:0.400158\tvalidation_1-rmse:0.402845\n"
     ]
    },
    {
     "ename": "AttributeError",
     "evalue": "'XGBRegressor' object has no attribute 'history'",
     "output_type": "error",
     "traceback": [
      "\u001b[0;31m---------------------------------------------------------------------------\u001b[0m",
      "\u001b[0;31mAttributeError\u001b[0m                            Traceback (most recent call last)",
      "Input \u001b[0;32mIn [39]\u001b[0m, in \u001b[0;36m<cell line: 6>\u001b[0;34m()\u001b[0m\n\u001b[1;32m      1\u001b[0m xgb \u001b[38;5;241m=\u001b[39m xgboost\u001b[38;5;241m.\u001b[39mXGBRegressor(n_estimators\u001b[38;5;241m=\u001b[39m\u001b[38;5;241m110\u001b[39m, early_stopping_rounds\u001b[38;5;241m=\u001b[39m\u001b[38;5;241m10\u001b[39m, learning_rate\u001b[38;5;241m=\u001b[39m\u001b[38;5;241m0.4\u001b[39m)\n\u001b[1;32m      2\u001b[0m history_callback \u001b[38;5;241m=\u001b[39mxgb\u001b[38;5;241m.\u001b[39mfit(X_train, y_train,\n\u001b[1;32m      3\u001b[0m         eval_set\u001b[38;5;241m=\u001b[39m[(X_train, y_train), (X_val, y_val)],\n\u001b[1;32m      4\u001b[0m         verbose\u001b[38;5;241m=\u001b[39m\u001b[38;5;28;01mTrue\u001b[39;00m)\n\u001b[0;32m----> 6\u001b[0m loss_history \u001b[38;5;241m=\u001b[39m \u001b[43mhistory_callback\u001b[49m\u001b[38;5;241;43m.\u001b[39;49m\u001b[43mhistory\u001b[49m[\u001b[38;5;124m\"\u001b[39m\u001b[38;5;124mverbose\u001b[39m\u001b[38;5;124m\"\u001b[39m]\n\u001b[1;32m      9\u001b[0m numpy_loss_history \u001b[38;5;241m=\u001b[39m np\u001b[38;5;241m.\u001b[39marray(loss_history)\n\u001b[1;32m     10\u001b[0m np\u001b[38;5;241m.\u001b[39msavetxt(\u001b[38;5;124m\"\u001b[39m\u001b[38;5;124mloss_history.txt\u001b[39m\u001b[38;5;124m\"\u001b[39m, numpy_loss_history, delimiter\u001b[38;5;241m=\u001b[39m\u001b[38;5;124m\"\u001b[39m\u001b[38;5;124m,\u001b[39m\u001b[38;5;124m\"\u001b[39m)\n",
      "\u001b[0;31mAttributeError\u001b[0m: 'XGBRegressor' object has no attribute 'history'"
     ]
    }
   ],
   "source": [
    "xgb = xgboost.XGBRegressor(n_estimators=110, early_stopping_rounds=10, learning_rate=0.4)\n",
    "history_callback =xgb.fit(X_train, y_train,\n",
    "        eval_set=[(X_train, y_train), (X_val, y_val)],\n",
    "        verbose=True)\n",
    "\n",
    "loss_history = history_callback.history[\"verbose\"]\n",
    "\n",
    "\n",
    "numpy_loss_history = np.array(loss_history)\n",
    "np.savetxt(\"loss_history.txt\", numpy_loss_history, delimiter=\",\")\n"
   ]
  },
  {
   "cell_type": "code",
   "execution_count": 40,
   "id": "20ab7832",
   "metadata": {},
   "outputs": [],
   "source": [
    "xgb.save_model(\"xgbfinalmodel.json\")\n",
    "xgb.save_model(\"xgbfinalmodel.txt\")"
   ]
  },
  {
   "cell_type": "code",
   "execution_count": 41,
   "id": "75926c07",
   "metadata": {},
   "outputs": [
    {
     "name": "stdout",
     "output_type": "stream",
     "text": [
      "RMS log-error train:  0.15301606007499857\n",
      "RMS log-error val:  0.1541208706889701\n",
      "RMS log-error train (actual):  0.40065622873672846\n",
      "RMS log-error val (actual):  0.40287645083933715\n"
     ]
    }
   ],
   "source": [
    "y_pred_train = xgb.predict(X_train)\n",
    "y_pred_train[y_pred_train < 0] = 0\n",
    "y_pred_val = xgb.predict(X_val)\n",
    "y_pred_val[y_pred_val < 0] = 0\n",
    "\n",
    "print(\"RMS log-error train: \", np.sqrt(mean_squared_log_error(y_train, y_pred_train)))\n",
    "print(\"RMS log-error val: \", np.sqrt(mean_squared_log_error(y_val, y_pred_val)))\n",
    "print(\"RMS log-error train (actual): \",\n",
    "          np.sqrt(mean_squared_log_error(np.expm1(y_train), np.expm1(y_pred_train))))\n",
    "print(\"RMS log-error val (actual): \",\n",
    "          np.sqrt(mean_squared_log_error(np.expm1(y_val), np.expm1(y_pred_val))))\n"
   ]
  },
  {
   "cell_type": "code",
   "execution_count": 43,
   "id": "980096b6",
   "metadata": {},
   "outputs": [
    {
     "ename": "AttributeError",
     "evalue": "'XGBRegressor' object has no attribute 'summary'",
     "output_type": "error",
     "traceback": [
      "\u001b[0;31m---------------------------------------------------------------------------\u001b[0m",
      "\u001b[0;31mAttributeError\u001b[0m                            Traceback (most recent call last)",
      "Input \u001b[0;32mIn [43]\u001b[0m, in \u001b[0;36m<cell line: 1>\u001b[0;34m()\u001b[0m\n\u001b[0;32m----> 1\u001b[0m \u001b[38;5;28mprint\u001b[39m(\u001b[43mxgb\u001b[49m\u001b[38;5;241;43m.\u001b[39;49m\u001b[43msummary\u001b[49m())\n",
      "\u001b[0;31mAttributeError\u001b[0m: 'XGBRegressor' object has no attribute 'summary'"
     ]
    }
   ],
   "source": [
    "print(xgb.summary())"
   ]
  },
  {
   "cell_type": "code",
   "execution_count": 44,
   "id": "3e4e9e01",
   "metadata": {},
   "outputs": [],
   "source": [
    "def main_predict(model, X_test):\n",
    "    X_test_mod = X_test.copy()\n",
    "    output = np.array([])\n",
    "    start_day, end_day = X_test['day_of_month'].min(), X_test['day_of_month'].max()\n",
    "        # we lost the dates, but we still have day_of_month, which is good enough for our experiment\n",
    "        \n",
    "    for day in range(start_day, end_day + 1):\n",
    "        pred = model.predict(X_test_mod[X_test_mod['day_of_month'] == day])\n",
    "        pred[pred < 0] = 0\n",
    "        print(pred)\n",
    "        output = np.concatenate([output, pred], axis=0)\n",
    "        for future in range(day + 1, end_day + 1):\n",
    "            X_test_mod.loc[X_test_mod[X_test_mod['day_of_month'] == future].index,\n",
    "                           f'sales_lag_{(future - day):02d}'] = pred\n",
    "            # fill out future values now that this sales figure is available\n",
    "            \n",
    "    return output"
   ]
  },
  {
   "cell_type": "code",
   "execution_count": 45,
   "id": "cf8984ef",
   "metadata": {},
   "outputs": [
    {
     "name": "stdout",
     "output_type": "stream",
     "text": [
      "[1.6030245  0.06487405 1.6090407  ... 7.318695   4.41523    2.816975  ]\n",
      "[1.3723085  0.48425683 1.5762546  ... 7.123762   4.621746   2.7673562 ]\n",
      "[1.5091102  0.34571868 1.4901665  ... 7.2624784  4.6534514  2.881816  ]\n",
      "[1.449044  0.3658272 1.3249067 ... 7.3239083 4.9125714 3.1157362]\n",
      "[1.3693335  0.53638554 1.2826777  ... 7.4323797  4.9647255  3.0348468 ]\n",
      "[1.4960632 0.57153   1.6091845 ... 7.149037  4.7922344 2.9714577]\n",
      "[1.4854034  0.39065775 1.3508189  ... 7.6213856  4.527902   2.821136  ]\n",
      "[1.4637    0.4610877 1.5483489 ... 7.1153436 4.4269657 2.8312593]\n",
      "[1.4504821 0.5739996 1.4708084 ... 7.0782733 4.590386  2.7400453]\n",
      "[1.4958229  0.46088344 1.3727589  ... 7.0828004  4.6334486  2.8919709 ]\n",
      "[1.4550418  0.40220675 1.250483   ... 7.1746626  4.921728   3.2882009 ]\n",
      "[1.3992629 0.4285711 1.4084591 ... 7.489747  4.922186  3.0725062]\n",
      "[1.485692  0.6704218 1.548816  ... 7.0633464 4.562362  2.8987868]\n",
      "[1.4885128 0.5164683 1.4998486 ... 7.5372934 4.472973  2.8121877]\n",
      "[1.6039565 0.4773856 1.5232067 ... 7.116566  4.4726105 2.8636944]\n",
      "[1.406554   0.61620456 1.588736   ... 7.1234612  4.540706   2.7712238 ]\n"
     ]
    }
   ],
   "source": [
    "y_pred_test = main_predict(xgb, X_test)"
   ]
  },
  {
   "cell_type": "code",
   "execution_count": 46,
   "id": "58a10735",
   "metadata": {},
   "outputs": [],
   "source": [
    "delta_index = 3008016 - 3000888  # we inserted 4 Christmas days, 4 x 54 x 33 = 7128, which is the difference\n",
    "submission = pd.DataFrame({'id': X_test.index - delta_index, 'sales': np.expm1(y_pred_test)})\n",
    "submission.to_csv('submissionxgb.csv', index=False)"
   ]
  },
  {
   "cell_type": "code",
   "execution_count": null,
   "id": "f84e2f8a",
   "metadata": {},
   "outputs": [],
   "source": []
  }
 ],
 "metadata": {
  "kernelspec": {
   "display_name": "Python 3 (ipykernel)",
   "language": "python",
   "name": "python3"
  },
  "language_info": {
   "codemirror_mode": {
    "name": "ipython",
    "version": 3
   },
   "file_extension": ".py",
   "mimetype": "text/x-python",
   "name": "python",
   "nbconvert_exporter": "python",
   "pygments_lexer": "ipython3",
   "version": "3.9.12"
  }
 },
 "nbformat": 4,
 "nbformat_minor": 5
}
