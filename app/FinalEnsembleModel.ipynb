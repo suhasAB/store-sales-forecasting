{
  "nbformat": 4,
  "nbformat_minor": 0,
  "metadata": {
    "colab": {
      "provenance": []
    },
    "kernelspec": {
      "name": "python3",
      "display_name": "Python 3"
    },
    "language_info": {
      "name": "python"
    },
    "gpuClass": "standard",
    "accelerator": "TPU"
  },
  "cells": [
    {
      "cell_type": "code",
      "source": [
        "import numpy as np \n",
        "import pandas as pd \n",
        "import matplotlib.pyplot as plt\n",
        "import seaborn as sns\n",
        "import re\n",
        "import xgboost\n",
        "\n",
        "from pandas.api.types import CategoricalDtype\n",
        "\n",
        "from sklearn.preprocessing import OneHotEncoder\n",
        "from sklearn.compose import ColumnTransformer\n",
        "from sklearn.pipeline import Pipeline\n",
        "from sklearn.model_selection import train_test_split\n",
        "from sklearn.metrics import mean_squared_log_error\n",
        "from sklearn.linear_model import LinearRegression\n",
        "from sklearn.ensemble import RandomForestRegressor\n",
        "\n",
        "from statsmodels.graphics.tsaplots import plot_pacf\n",
        "from xgboost import XGBRegressor\n",
        "import lightgbm\n",
        "from sklearn.model_selection import GridSearchCV\n",
        "import joblib\n",
        "import logging\n",
        "# import keras\n"
      ],
      "metadata": {
        "id": "l_VKgNJtxR1J"
      },
      "execution_count": 2,
      "outputs": []
    },
    {
      "cell_type": "code",
      "source": [
        "all_csv = pd.read_csv('cleaned.csv.gz',\n",
        "                 dtype = {\n",
        "                     'store_nbr' : 'category',\n",
        "                     'family' : 'category',\n",
        "                     'sales': 'float',\n",
        "                     'city': 'category',\n",
        "                     'state': 'category',\n",
        "                     'type': 'category',\n",
        "                     'holiday_type': 'category',\n",
        "                     'holiday_transferred': 'category'\n",
        "                 },\n",
        "                  parse_dates=['date'])\n",
        "all_csv['date'] = pd.to_datetime(all_csv['date']).dt.to_period('D')\n"
      ],
      "metadata": {
        "id": "297ILgAFxjiu"
      },
      "execution_count": 3,
      "outputs": []
    },
    {
      "cell_type": "code",
      "source": [
        "all = all_csv.copy()  # we can start experimenting from here without reloading the csv file\n"
      ],
      "metadata": {
        "id": "9970GxxqxnhE"
      },
      "execution_count": 4,
      "outputs": []
    },
    {
      "cell_type": "code",
      "source": [
        "# this is for experimentation\n",
        "\n",
        "filter_by_stores = None  # note: please use string here (unlike Mine.ipynb)\n",
        "filter_by_family = None\n",
        "filter_by_dates = None\n",
        "\n",
        "#filter_by_stores = ['1', '2']  # note: please use string here (unlike Mine.ipynb)\n",
        "#filter_by_family = ['DAIRY', 'PRODUCE']\n",
        "#filter_by_family = ['']\n",
        "#filter_by_dates = '2014-06-05'\n"
      ],
      "metadata": {
        "id": "KBvnjBHTxnel"
      },
      "execution_count": 5,
      "outputs": []
    },
    {
      "cell_type": "code",
      "source": [
        "if filter_by_dates == None:\n",
        "    train_start_date = '2013-01-01'\n",
        "else:\n",
        "    train_start_date = filter_by_dates\n",
        "train_end_date = '2017-08-15'\n",
        "test_start_date = '2017-08-16'\n",
        "test_end_date = '2017-08-31'\n"
      ],
      "metadata": {
        "id": "dJt_GeGOxncI"
      },
      "execution_count": 6,
      "outputs": []
    },
    {
      "cell_type": "code",
      "source": [
        "if filter_by_family != None:\n",
        "    all = all[all['family'].isin(filter_by_family)]\n",
        "if filter_by_stores != None:\n",
        "    all = all[all['store_nbr'].isin(filter_by_stores)]\n",
        "if filter_by_dates != None:\n",
        "    all = all[all['date'] >= filter_by_dates]"
      ],
      "metadata": {
        "id": "tJ1lbhq5xnZU"
      },
      "execution_count": 7,
      "outputs": []
    },
    {
      "cell_type": "code",
      "source": [
        "all.info(verbose=True)"
      ],
      "metadata": {
        "colab": {
          "base_uri": "https://localhost:8080/"
        },
        "id": "af-sOJGCxnW4",
        "outputId": "67a22241-8398-4159-a126-d4731452c3ee"
      },
      "execution_count": 8,
      "outputs": [
        {
          "output_type": "stream",
          "name": "stdout",
          "text": [
            "<class 'pandas.core.frame.DataFrame'>\n",
            "RangeIndex: 3036528 entries, 0 to 3036527\n",
            "Data columns (total 38 columns):\n",
            " #   Column               Dtype    \n",
            "---  ------               -----    \n",
            " 0   date                 period[D]\n",
            " 1   store_nbr            category \n",
            " 2   family               category \n",
            " 3   sales                float64  \n",
            " 4   onpromotion          int64    \n",
            " 5   sales_lag_01         float64  \n",
            " 6   sales_lag_02         float64  \n",
            " 7   sales_lag_03         float64  \n",
            " 8   sales_lag_04         float64  \n",
            " 9   sales_lag_05         float64  \n",
            " 10  sales_lag_06         float64  \n",
            " 11  sales_lag_07         float64  \n",
            " 12  sales_lag_08         float64  \n",
            " 13  sales_lag_09         float64  \n",
            " 14  sales_lag_10         float64  \n",
            " 15  sales_lag_11         float64  \n",
            " 16  sales_lag_12         float64  \n",
            " 17  sales_lag_13         float64  \n",
            " 18  sales_lag_14         float64  \n",
            " 19  sales_lag_15         float64  \n",
            " 20  sales_lag_16         float64  \n",
            " 21  sales_lag_17         float64  \n",
            " 22  sales_lag_18         float64  \n",
            " 23  sales_lag_19         float64  \n",
            " 24  sales_lag_20         float64  \n",
            " 25  city                 category \n",
            " 26  state                category \n",
            " 27  type                 category \n",
            " 28  cluster              int64    \n",
            " 29  month                int64    \n",
            " 30  day_of_month         int64    \n",
            " 31  day_of_year          int64    \n",
            " 32  week_of_year         int64    \n",
            " 33  day_of_week          int64    \n",
            " 34  weekday              int64    \n",
            " 35  year                 int64    \n",
            " 36  holiday_type         category \n",
            " 37  holiday_transferred  category \n",
            "dtypes: category(7), float64(21), int64(9), period[D](1)\n",
            "memory usage: 738.4 MB\n"
          ]
        }
      ]
    },
    {
      "cell_type": "code",
      "source": [
        "def one_hot_encode(df):\n",
        "    return pd.get_dummies(data=df, columns=['store_nbr', 'family', 'city', 'state', 'type',\n",
        "                                     'cluster', 'holiday_type', 'holiday_transferred', 'weekday']) "
      ],
      "metadata": {
        "id": "YmMbfNQXxnUD"
      },
      "execution_count": 9,
      "outputs": []
    },
    {
      "cell_type": "code",
      "source": [
        "all_ohe = one_hot_encode(all)\n",
        "all_ohe = all_ohe.rename(columns = lambda x:re.sub('[^A-Za-z0-9_]+', '', x))  # remove bad char in column names\n",
        "\n",
        "X = all_ohe[all_ohe['date'] <= train_end_date]\n",
        "X = X.drop(['sales'], axis=1)\n",
        "y = all_ohe[['date', 'sales']][all_ohe['date'] <= train_end_date]\n",
        "y.set_index('date', inplace=True)\n",
        "\n",
        "X_test = all_ohe[all_ohe['date'] >= test_start_date]\n",
        "X_test = X_test.drop(['sales'], axis=1)\n",
        "\n",
        "X.drop('date', axis=1, inplace=True)\n",
        "X_test.drop('date', axis=1, inplace=True)\n",
        "y.set_index(X.index, inplace=True)\n",
        "\n",
        "# from sklearn.decomposition import PCA\n",
        "# pca = PCA(n_components=180)\n",
        "# principalComponents = pca.fit_transform(X)\n",
        "# principalDf = pd.DataFrame(data = principalComponents)\n",
        "\n",
        "X_train, X_val, y_train, y_val = train_test_split(X, y, random_state=1)"
      ],
      "metadata": {
        "id": "l8lN9LxixnRc"
      },
      "execution_count": 10,
      "outputs": []
    },
    {
      "cell_type": "markdown",
      "source": [
        "**SVM Regressor**"
      ],
      "metadata": {
        "id": "yQ1RD61m38Rn"
      }
    },
    {
      "cell_type": "code",
      "source": [
        "from sklearn.svm import SVR\n",
        "from sklearn.multioutput import MultiOutputRegressor\n",
        "\n",
        "model_svr = MultiOutputRegressor(SVR(C = 0.2, kernel = 'rbf'), n_jobs = -1)\n",
        "model_svr.fit(X_train, y_train)"
      ],
      "metadata": {
        "colab": {
          "base_uri": "https://localhost:8080/"
        },
        "id": "Rk8qV72V3A3d",
        "outputId": "7ba11657-7946-41c6-f771-eadb27f7b09c"
      },
      "execution_count": null,
      "outputs": [
        {
          "output_type": "execute_result",
          "data": {
            "text/plain": [
              "MultiOutputRegressor(estimator=SVR(C=0.2), n_jobs=-1)"
            ]
          },
          "metadata": {},
          "execution_count": 54
        }
      ]
    },
    {
      "cell_type": "code",
      "source": [
        "y_pred_train = model_svr.predict(X_train)\n",
        "y_pred_train[y_pred_train < 0] = 0\n",
        "y_pred_val = model_svr.predict(X_val)\n",
        "y_pred_val[y_pred_val < 0] = 0"
      ],
      "metadata": {
        "id": "JbsjjLK44EpF"
      },
      "execution_count": 10,
      "outputs": []
    },
    {
      "cell_type": "code",
      "source": [
        "print(\"RMS log-error train: \", np.sqrt(mean_squared_log_error(y_train, y_pred_train)))\n",
        "print(\"RMS log-error val: \", np.sqrt(mean_squared_log_error(y_val, y_pred_val)))\n",
        "print(\"RMS log-error train (actual): \",\n",
        "          np.sqrt(mean_squared_log_error(np.expm1(y_train), np.expm1(y_pred_train))))\n",
        "print(\"RMS log-error val (actual): \",\n",
        "          np.sqrt(mean_squared_log_error(np.expm1(y_val), np.expm1(y_pred_val))))"
      ],
      "metadata": {
        "colab": {
          "base_uri": "https://localhost:8080/"
        },
        "id": "HuPXPsEG29G1",
        "outputId": "b7d5e6f8-aed6-4a2f-ee9e-9ffc8b257678"
      },
      "execution_count": 12,
      "outputs": [
        {
          "output_type": "stream",
          "name": "stdout",
          "text": [
            "RMS log-error train:  0.3722857209983476\n",
            "RMS log-error val:  0.3892237332423023\n",
            "RMS log-error train (actual):  0.5323982641064017\n",
            "RMS log-error val (actual):  0.5629841092840163\n"
          ]
        }
      ]
    },
    {
      "cell_type": "code",
      "source": [
        "def main_predict(model, X_test):\n",
        "    X_test_mod = X_test.copy()\n",
        "    output = np.array([])\n",
        "    start_day, end_day = X_test['day_of_month'].min(), X_test['day_of_month'].max()\n",
        "        # we lost the dates, but we still have day_of_month, which is good enough for our experiment\n",
        "        \n",
        "    for day in range(start_day, end_day + 1):\n",
        "        pred = model.predict(X_test_mod[X_test_mod['day_of_month'] == day])\n",
        "        pred[pred < 0] = 0\n",
        "        print(pred)\n",
        "        output = np.concatenate([output, pred], axis=0)\n",
        "        for future in range(day + 1, end_day + 1):\n",
        "            X_test_mod.loc[X_test_mod[X_test_mod['day_of_month'] == future].index,\n",
        "                           f'sales_lag_{(future - day):02d}'] = pred\n",
        "            # fill out future values now that this sales figure is available\n",
        "            \n",
        "    return output\n"
      ],
      "metadata": {
        "id": "hrtiOuNr28_n"
      },
      "execution_count": 13,
      "outputs": []
    },
    {
      "cell_type": "code",
      "source": [
        "y_pred_test = main_predict(model_svr, X_test)"
      ],
      "metadata": {
        "colab": {
          "base_uri": "https://localhost:8080/"
        },
        "id": "IZWTqkJGyKVT",
        "outputId": "0c15f540-a92c-484d-b8bc-aa9683f72b5d"
      },
      "execution_count": 11,
      "outputs": [
        {
          "output_type": "stream",
          "name": "stdout",
          "text": [
            "[0.11967785 2.38872427 0.65663952 ... 1.29324115 2.76654721 0.95673513]\n",
            "[1.12141818 1.87616722 1.41617273 ... 2.88968327 0.62116203 1.67497799]\n",
            "[2.87934372 2.03320055 1.37923162 ... 0.92270943 0.23353092 1.33441761]\n",
            "[1.04962632 3.19366553 1.41707919 ... 0.10716022 0.47267722 0.94505277]\n",
            "[1.08822059 1.61641118 1.23518137 ... 2.01308692 2.82727697 3.14590217]\n",
            "[0.90681655 2.08577696 1.05045321 ... 1.06011914 2.45407819 0.70312524]\n",
            "[3.15560875 0.00339373 2.20785042 ... 1.81735793 3.331251   3.38355634]\n",
            "[0.49802095 0.31372057 2.95853658 ... 1.05715435 0.53881925 0.1964043 ]\n",
            "[0.54823515 2.41975598 1.06252407 ... 1.64595386 1.8277473  1.08556045]\n",
            "[2.05839378 3.42893869 0.08696091 ... 2.20040369 2.61810641 0.62928289]\n",
            "[1.4156125  1.95259127 1.0152039  ... 0.73285419 2.23427956 0.00690789]\n",
            "[0.10254338 1.24641745 2.9730511  ... 0.21490646 2.88382405 0.07270278]\n",
            "[2.58955172 0.41465833 2.57284581 ... 2.76483209 2.46913725 3.02756179]\n",
            "[0.7787405  2.58963486 2.68050365 ... 0.21723778 0.57668876 1.85688559]\n",
            "[1.00440859 3.08503214 0.25635924 ... 0.19584282 1.09827887 1.94936271]\n",
            "[2.10241612 2.76771035 1.90367174 ... 1.82234662 0.7578864  1.78416066]\n"
          ]
        }
      ]
    },
    {
      "cell_type": "code",
      "source": [
        "delta_index = 3008016 - 3000888  # we inserted 4 Christmas days, 4 x 54 x 33 = 7128, which is the difference\n",
        "submission = pd.DataFrame({'id': X_test.index - delta_index, 'sales': np.expm1(y_pred_test)})\n",
        "submission.to_csv('submission_svr.csv', index=False)"
      ],
      "metadata": {
        "id": "OfiTOY5c0u6H"
      },
      "execution_count": 14,
      "outputs": []
    },
    {
      "cell_type": "markdown",
      "source": [
        "## Importing RF model"
      ],
      "metadata": {
        "id": "MIWUKqIG0OyW"
      }
    },
    {
      "cell_type": "code",
      "source": [
        "import pickle\n",
        "# load\n",
        "with open('model_rf.pkl', 'rb') as f:\n",
        "    model_rf = pickle.load(f)\n"
      ],
      "metadata": {
        "id": "bnpzMx-f8-za"
      },
      "execution_count": 25,
      "outputs": []
    },
    {
      "cell_type": "markdown",
      "source": [
        "## Importing XGBoost"
      ],
      "metadata": {
        "id": "h_1774Lr76gr"
      }
    },
    {
      "cell_type": "code",
      "source": [
        "import pickle\n",
        "# load\n",
        "with open('model_xgb.pkl', 'rb') as f:\n",
        "    model_xgb = pickle.load(f)"
      ],
      "metadata": {
        "id": "J83YqSO-7_Ja"
      },
      "execution_count": 26,
      "outputs": []
    },
    {
      "cell_type": "markdown",
      "source": [
        "## Ensemble Method"
      ],
      "metadata": {
        "id": "XC6xXrhVyIpc"
      }
    },
    {
      "cell_type": "code",
      "source": [
        "from sklearn.ensemble import VotingRegressor, ExtraTreesRegressor, BaggingRegressor, RandomForestRegressor\n",
        "from lightgbm import LGBMRegressor\n",
        "from sklearn.linear_model import Ridge\n",
        "from xgboost import XGBRegressor\n",
        "from sklearn.metrics import mean_squared_log_error\n",
        "import warnings\n",
        "from joblib import Parallel, delayed"
      ],
      "metadata": {
        "id": "4w7GPqcn4y35"
      },
      "execution_count": 29,
      "outputs": []
    },
    {
      "cell_type": "code",
      "source": [
        "class votingEnsembleRegression():\n",
        "    \n",
        "    def __init__(self, n_jobs=-1, verbose=0):    \n",
        "        self.n_jobs = n_jobs\n",
        "        self.verbose = verbose\n",
        "        self.estimators_ = None\n",
        "    \n",
        "    def estimator(self, X_train, y_train):\n",
        "    \n",
        "        warnings.simplefilter(action='ignore', category=FutureWarning)\n",
        " \n",
        "        ridge = Ridge(fit_intercept=True, solver='auto', alpha=0.75, normalize=True, random_state=5)\n",
        "        svr = model_svr\n",
        "        rf=model_rf\n",
        "        xgb=model_xgb\n",
        "        model1 = VotingRegressor([('ridge', ridge), ('svr', svr)]) \n",
        "        model2= VotingRegressor([('rf', rf), ('xgb', xgb)]) \n",
        "        model=VotingRegressor([('m1', model1), ('m2', model2)]) \n",
        "        model.fit(X_train, y_train)\n",
        "\n",
        "        return model\n",
        "    \n",
        "    def fit(self,X_train, y_train):\n",
        "        self.estimators = Parallel(n_jobs=self.n_jobs, verbose=0,)(delayed(self.estimator)(X_train, y_train.iloc[:, i]) for i in range(y_train.shape[1]))\n",
        "        return\n",
        "    \n",
        "    def predict(self, X_test):\n",
        "        y_pred = Parallel(n_jobs=self.n_jobs,verbose=0)(delayed(e.predict)(X_test) for e in self.estimators)\n",
        "        return np.stack(y_pred, axis=1)"
      ],
      "metadata": {
        "id": "5ElH6nMz5n6r"
      },
      "execution_count": 30,
      "outputs": []
    },
    {
      "cell_type": "code",
      "source": [
        "votingEnsembleRegression_model=votingEnsembleRegression()\n",
        "votingEnsembleRegression_model.fit(X_train, y_train)"
      ],
      "metadata": {
        "id": "3s-Fq4pM7Ywn"
      },
      "execution_count": 31,
      "outputs": []
    },
    {
      "cell_type": "markdown",
      "source": [
        "**Evaluation**"
      ],
      "metadata": {
        "id": "6bFAx1pq9Cia"
      }
    },
    {
      "cell_type": "code",
      "source": [
        "y_pred_train = votingEnsembleRegression_model.predict(X_train)\n",
        "y_pred_train[y_pred_train < 0] = 0\n",
        "y_pred_val = votingEnsembleRegression_model.predict(X_val)\n",
        "y_pred_val[y_pred_val < 0] = 0"
      ],
      "metadata": {
        "id": "_HZfAe6K8woT"
      },
      "execution_count": 32,
      "outputs": []
    },
    {
      "cell_type": "code",
      "source": [
        "print(\"RMS log-error train: \", np.sqrt(mean_squared_log_error(y_train, y_pred_train)))\n",
        "print(\"RMS log-error val: \", np.sqrt(mean_squared_log_error(y_val, y_pred_val)))\n",
        "print(\"RMS log-error train (actual): \",\n",
        "          np.sqrt(mean_squared_log_error(np.expm1(y_train), np.expm1(y_pred_train))))\n",
        "print(\"RMS log-error val (actual): \",\n",
        "          np.sqrt(mean_squared_log_error(np.expm1(y_val), np.expm1(y_pred_val))))"
      ],
      "metadata": {
        "colab": {
          "base_uri": "https://localhost:8080/"
        },
        "id": "i5lVvkU19LXj",
        "outputId": "b022fe90-0e54-41f8-b337-4ab2886693e1"
      },
      "execution_count": 33,
      "outputs": [
        {
          "output_type": "stream",
          "name": "stdout",
          "text": [
            "RMS log-error train:  0.14742841052730962\n",
            "RMS log-error val:  0.14552198259112045\n",
            "RMS log-error train (actual):  0.42161915209476136\n",
            "RMS log-error val (actual):  0.41084028914506504\n"
          ]
        }
      ]
    },
    {
      "cell_type": "code",
      "source": [
        "y_pred_test = main_predict(votingEnsembleRegression_model, X_test)"
      ],
      "metadata": {
        "colab": {
          "base_uri": "https://localhost:8080/"
        },
        "id": "4KZPcR2L_0zf",
        "outputId": "e258bf7f-d01e-407f-a5f5-b8c5580a90e2"
      },
      "execution_count": 34,
      "outputs": [
        {
          "output_type": "stream",
          "name": "stdout",
          "text": [
            "[0.19834369 2.15970899 1.27344995 ... 2.98216513 3.48104022 1.64701719]\n",
            "[0.17493266 1.66993516 2.47091652 ... 2.3348894  1.50301823 3.01084877]\n",
            "[2.74874313 3.05522606 2.95919066 ... 2.90529039 3.36833467 3.17361386]\n",
            "[2.22088813 3.43762715 2.87835876 ... 1.54481341 1.96484082 0.61985623]\n",
            "[0.85711875 1.83428036 2.04581065 ... 0.65215971 2.64351976 3.17494882]\n",
            "[1.11427783 3.45426144 0.3244539  ... 1.6481821  1.02870956 0.594262  ]\n",
            "[2.50112051 1.81070405 0.03567776 ... 1.46441356 3.36591058 0.76049881]\n",
            "[2.27222414 2.01976616 2.35518705 ... 2.10879497 1.76562312 1.37300042]\n",
            "[1.85170051 3.11887359 0.3067603  ... 0.37602163 2.44514466 0.04696336]\n",
            "[3.36407454 0.70153053 2.40365351 ... 2.68416588 3.00568999 2.71829736]\n",
            "[2.39724729 3.48764851 2.27876124 ... 2.92905129 1.53056496 1.98109757]\n",
            "[3.18436059 1.602517   3.18718923 ... 2.96286022 3.22221297 1.74866862]\n",
            "[0.19949044 0.76450777 0.81486609 ... 3.25336479 3.16483495 0.43576415]\n",
            "[2.08763877 0.08984864 0.78854499 ... 1.0205013  0.13874434 1.15943687]\n",
            "[3.25134738 2.40245945 2.81772811 ... 2.20378278 0.15910841 2.46114349]\n",
            "[0.27966371 2.00484204 3.24366164 ... 2.32343515 3.27457138 3.26843806]\n"
          ]
        }
      ]
    },
    {
      "cell_type": "code",
      "source": [
        "delta_index = 3008016 - 3000888  # we inserted 4 Christmas days, 4 x 54 x 33 = 7128, which is the difference\n",
        "submission = pd.DataFrame({'id': X_test.index - delta_index, 'sales': np.expm1(y_pred_test)})\n",
        "submission.to_csv('submission_ensemble.csv', index=False)"
      ],
      "metadata": {
        "id": "F-bNrNzG-XXF"
      },
      "execution_count": 35,
      "outputs": []
    },
    {
      "cell_type": "code",
      "source": [
        "!!jupyter nbconvert FinalEnsembleModel.ipynb --to python"
      ],
      "metadata": {
        "colab": {
          "base_uri": "https://localhost:8080/"
        },
        "id": "oD8SoOfA3zp6",
        "outputId": "a85f6529-1386-49a3-d3c2-8cea508fe359"
      },
      "execution_count": 36,
      "outputs": [
        {
          "output_type": "execute_result",
          "data": {
            "text/plain": [
              "['[NbConvertApp] Converting notebook FinalEnsembleModel.ipynb to python',\n",
              " '[NbConvertApp] Writing 8342 bytes to FinalEnsembleModel.py']"
            ]
          },
          "metadata": {},
          "execution_count": 36
        }
      ]
    },
    {
      "cell_type": "code",
      "source": [
        "!!jupyter nbconvert FinalEnsembleModel.ipynb --to html"
      ],
      "metadata": {
        "colab": {
          "base_uri": "https://localhost:8080/"
        },
        "id": "3aF3HNQB4g_3",
        "outputId": "0f74399d-e4ea-4927-ad77-0b3e8bc17b2b"
      },
      "execution_count": 37,
      "outputs": [
        {
          "output_type": "execute_result",
          "data": {
            "text/plain": [
              "['[NbConvertApp] Converting notebook FinalEnsembleModel.ipynb to html',\n",
              " '[NbConvertApp] Writing 324541 bytes to FinalEnsembleModel.html']"
            ]
          },
          "metadata": {},
          "execution_count": 37
        }
      ]
    },
    {
      "cell_type": "code",
      "source": [],
      "metadata": {
        "id": "e_4qpxAyAhdS"
      },
      "execution_count": null,
      "outputs": []
    }
  ]
}