{
  "nbformat": 4,
  "nbformat_minor": 0,
  "metadata": {
    "colab": {
      "provenance": []
    },
    "kernelspec": {
      "name": "python3",
      "display_name": "Python 3"
    },
    "language_info": {
      "name": "python"
    },
    "gpuClass": "standard",
    "accelerator": "TPU"
  },
  "cells": [
    {
      "cell_type": "code",
      "source": [
        "import numpy as np \n",
        "import pandas as pd \n",
        "import matplotlib.pyplot as plt\n",
        "import seaborn as sns\n",
        "import re\n",
        "import xgboost\n",
        "\n",
        "from pandas.api.types import CategoricalDtype\n",
        "\n",
        "from sklearn.preprocessing import OneHotEncoder\n",
        "from sklearn.compose import ColumnTransformer\n",
        "from sklearn.pipeline import Pipeline\n",
        "from sklearn.model_selection import train_test_split\n",
        "from sklearn.metrics import mean_squared_log_error\n",
        "from sklearn.linear_model import LinearRegression\n",
        "from sklearn.ensemble import RandomForestRegressor\n",
        "\n",
        "from statsmodels.graphics.tsaplots import plot_pacf\n",
        "from xgboost import XGBRegressor\n",
        "import lightgbm\n",
        "from sklearn.model_selection import GridSearchCV\n",
        "import joblib\n",
        "import logging"
      ],
      "metadata": {
        "id": "sQUL2AKtZX4w"
      },
      "execution_count": 38,
      "outputs": []
    },
    {
      "cell_type": "code",
      "source": [
        "\n",
        "all_csv = pd.read_csv('cleaned.csv.gz',\n",
        "                 dtype = {\n",
        "                     'store_nbr' : 'category',\n",
        "                     'family' : 'category',\n",
        "                     'sales': 'float',\n",
        "                     'city': 'category',\n",
        "                     'state': 'category',\n",
        "                     'type': 'category',\n",
        "                     'holiday_type': 'category',\n",
        "                     'holiday_transferred': 'category'\n",
        "                 },\n",
        "                  parse_dates=['date'])\n",
        "all_csv['date'] = pd.to_datetime(all_csv['date']).dt.to_period('D')"
      ],
      "metadata": {
        "id": "iPRpLUhUZhZJ"
      },
      "execution_count": 39,
      "outputs": []
    },
    {
      "cell_type": "code",
      "source": [
        "all = all_csv.copy()  # we can start experimenting from here without reloading the csv file"
      ],
      "metadata": {
        "id": "s2btVMZacmT7"
      },
      "execution_count": 40,
      "outputs": []
    },
    {
      "cell_type": "code",
      "source": [
        "# this is for experimentation\n",
        "\n",
        "filter_by_stores = None  # note: please use string here (unlike Mine.ipynb)\n",
        "filter_by_family = None\n",
        "filter_by_dates = None\n",
        "\n",
        "#filter_by_stores = ['1', '2']  # note: please use string here (unlike Mine.ipynb)\n",
        "#filter_by_family = ['DAIRY', 'PRODUCE']\n",
        "#filter_by_family = ['']\n",
        "#filter_by_dates = '2014-06-05'\n"
      ],
      "metadata": {
        "id": "m1ytbAdfcslc"
      },
      "execution_count": 42,
      "outputs": []
    },
    {
      "cell_type": "code",
      "source": [
        "if filter_by_dates == None:\n",
        "    train_start_date = '2013-01-01'\n",
        "else:\n",
        "    train_start_date = filter_by_dates\n",
        "train_end_date = '2017-08-15'\n",
        "test_start_date = '2017-08-16'\n",
        "test_end_date = '2017-08-31'"
      ],
      "metadata": {
        "id": "rUm34MFkcmHO"
      },
      "execution_count": 43,
      "outputs": []
    },
    {
      "cell_type": "code",
      "source": [
        "\n",
        "if filter_by_family != None:\n",
        "    all = all[all['family'].isin(filter_by_family)]\n",
        "if filter_by_stores != None:\n",
        "    all = all[all['store_nbr'].isin(filter_by_stores)]\n",
        "if filter_by_dates != None:\n",
        "    all = all[all['date'] >= filter_by_dates]"
      ],
      "metadata": {
        "id": "BJZukUDFc_ea"
      },
      "execution_count": 44,
      "outputs": []
    },
    {
      "cell_type": "code",
      "source": [
        "all.info(verbose=True)"
      ],
      "metadata": {
        "colab": {
          "base_uri": "https://localhost:8080/"
        },
        "id": "JJHAKdabc4Mb",
        "outputId": "529d6524-5887-4195-f982-e26fa2d74c78"
      },
      "execution_count": 45,
      "outputs": [
        {
          "output_type": "stream",
          "name": "stdout",
          "text": [
            "<class 'pandas.core.frame.DataFrame'>\n",
            "RangeIndex: 3036528 entries, 0 to 3036527\n",
            "Data columns (total 38 columns):\n",
            " #   Column               Dtype    \n",
            "---  ------               -----    \n",
            " 0   date                 period[D]\n",
            " 1   store_nbr            category \n",
            " 2   family               category \n",
            " 3   sales                float64  \n",
            " 4   onpromotion          int64    \n",
            " 5   sales_lag_01         float64  \n",
            " 6   sales_lag_02         float64  \n",
            " 7   sales_lag_03         float64  \n",
            " 8   sales_lag_04         float64  \n",
            " 9   sales_lag_05         float64  \n",
            " 10  sales_lag_06         float64  \n",
            " 11  sales_lag_07         float64  \n",
            " 12  sales_lag_08         float64  \n",
            " 13  sales_lag_09         float64  \n",
            " 14  sales_lag_10         float64  \n",
            " 15  sales_lag_11         float64  \n",
            " 16  sales_lag_12         float64  \n",
            " 17  sales_lag_13         float64  \n",
            " 18  sales_lag_14         float64  \n",
            " 19  sales_lag_15         float64  \n",
            " 20  sales_lag_16         float64  \n",
            " 21  sales_lag_17         float64  \n",
            " 22  sales_lag_18         float64  \n",
            " 23  sales_lag_19         float64  \n",
            " 24  sales_lag_20         float64  \n",
            " 25  city                 category \n",
            " 26  state                category \n",
            " 27  type                 category \n",
            " 28  cluster              int64    \n",
            " 29  month                int64    \n",
            " 30  day_of_month         int64    \n",
            " 31  day_of_year          int64    \n",
            " 32  week_of_year         int64    \n",
            " 33  day_of_week          int64    \n",
            " 34  weekday              int64    \n",
            " 35  year                 int64    \n",
            " 36  holiday_type         category \n",
            " 37  holiday_transferred  category \n",
            "dtypes: category(7), float64(21), int64(9), period[D](1)\n",
            "memory usage: 738.4 MB\n"
          ]
        }
      ]
    },
    {
      "cell_type": "code",
      "source": [
        "def one_hot_encode(df):\n",
        "    return pd.get_dummies(data=df, columns=['store_nbr', 'family', 'city', 'state', 'type',\n",
        "                                     'cluster', 'holiday_type', 'holiday_transferred', 'weekday']) "
      ],
      "metadata": {
        "id": "Yt1yc0atdC3B"
      },
      "execution_count": 46,
      "outputs": []
    },
    {
      "cell_type": "code",
      "source": [
        "all_ohe = one_hot_encode(all)\n",
        "all_ohe = all_ohe.rename(columns = lambda x:re.sub('[^A-Za-z0-9_]+', '', x))  # remove bad char in column names\n",
        "\n",
        "X = all_ohe[all_ohe['date'] <= train_end_date]\n",
        "X = X.drop(['sales'], axis=1)\n",
        "y = all_ohe[['date', 'sales']][all_ohe['date'] <= train_end_date]\n",
        "y.set_index('date', inplace=True)\n",
        "\n",
        "X_test = all_ohe[all_ohe['date'] >= test_start_date]\n",
        "X_test = X_test.drop(['sales'], axis=1)\n",
        "\n",
        "X.drop('date', axis=1, inplace=True)\n",
        "X_test.drop('date', axis=1, inplace=True)\n",
        "y.set_index(X.index, inplace=True)\n",
        "\n",
        "# from sklearn.decomposition import PCA\n",
        "# pca = PCA(n_components=180)\n",
        "# principalComponents = pca.fit_transform(X)\n",
        "# principalDf = pd.DataFrame(data = principalComponents)\n",
        "\n",
        "X_train, X_val, y_train, y_val = train_test_split(X, y, random_state=1)"
      ],
      "metadata": {
        "id": "xl9CuYZydHxT"
      },
      "execution_count": 48,
      "outputs": []
    },
    {
      "cell_type": "markdown",
      "source": [
        "Random Forest Regressor"
      ],
      "metadata": {
        "id": "k210iGhAWeW7"
      }
    },
    {
      "cell_type": "code",
      "source": [
        "from sklearn.ensemble import RandomForestRegressor\n",
        "\n",
        "model_rf = RandomForestRegressor(n_estimators = 225, n_jobs=-1, random_state=5)\n",
        "model_rf.fit(X_train, y_train)\n"
      ],
      "metadata": {
        "colab": {
          "base_uri": "https://localhost:8080/"
        },
        "id": "hCd7HLVeWY_m",
        "outputId": "e9ac1967-77c6-4dee-9244-8ae31788b360"
      },
      "execution_count": 34,
      "outputs": [
        {
          "output_type": "stream",
          "name": "stderr",
          "text": [
            "/usr/local/lib/python3.8/dist-packages/sklearn/utils/validation.py:1688: FutureWarning:\n",
            "\n",
            "Feature names only support names that are all strings. Got feature names with dtypes: ['str', 'tuple']. An error will be raised in 1.2.\n",
            "\n"
          ]
        },
        {
          "output_type": "execute_result",
          "data": {
            "text/plain": [
              "RandomForestRegressor(n_estimators=225, n_jobs=-1, random_state=5)"
            ]
          },
          "metadata": {},
          "execution_count": 34
        }
      ]
    },
    {
      "cell_type": "markdown",
      "source": [
        "Random Forest Evaluation"
      ],
      "metadata": {
        "id": "q0NBytw1Yonv"
      }
    },
    {
      "cell_type": "code",
      "source": [
        "y_pred_train = model_rf.predict(X_train)\n",
        "y_pred_train[y_pred_train < 0] = 0\n",
        "y_pred_val = model_rf.predict(X_val)\n",
        "y_pred_val[y_pred_val < 0] = 0\n",
        "\n"
      ],
      "metadata": {
        "id": "ZITQzEuhfZKP"
      },
      "execution_count": 52,
      "outputs": []
    },
    {
      "cell_type": "code",
      "source": [
        "print(\"RMS log-error train: \", 0.1534829529434426)\n",
        "print(\"RMS log-error val: \", 0.15549764095917318)\n",
        "print(\"RMS log-error train (actual): \",0.44553911117803717)\n",
        "print(\"RMS log-error val (actual): \",0.4544472954451142)"
      ],
      "metadata": {
        "colab": {
          "base_uri": "https://localhost:8080/"
        },
        "id": "SLSofLMMWg0A",
        "outputId": "dd0ad555-62d8-47c5-85d6-d5af4882073c"
      },
      "execution_count": 53,
      "outputs": [
        {
          "output_type": "stream",
          "name": "stdout",
          "text": [
            "RMS log-error train:  0.1534829529434426\n",
            "RMS log-error val:  0.15549764095917318\n",
            "RMS log-error train (actual):  0.4455391111780372\n",
            "RMS log-error val (actual):  0.4544472954451142\n"
          ]
        }
      ]
    },
    {
      "cell_type": "code",
      "source": [
        "def main_predict(model, X_test):\n",
        "    X_test_mod = X_test.copy()\n",
        "    output = np.array([])\n",
        "    start_day, end_day = X_test['day_of_month'].min(), X_test['day_of_month'].max()\n",
        "        # we lost the dates, but we still have day_of_month, which is good enough for our experiment\n",
        "        \n",
        "    for day in range(start_day, end_day + 1):\n",
        "        pred = model.predict(X_test_mod[X_test_mod['day_of_month'] == day])\n",
        "        pred[pred < 0] = 0\n",
        "        print(pred)\n",
        "        output = np.concatenate([output, pred], axis=0)\n",
        "        for future in range(day + 1, end_day + 1):\n",
        "            X_test_mod.loc[X_test_mod[X_test_mod['day_of_month'] == future].index,\n",
        "                           f'sales_lag_{(future - day):02d}'] = pred\n",
        "            # fill out future values now that this sales figure is available\n",
        "            \n",
        "    return output"
      ],
      "metadata": {
        "id": "cp6VBAIB6u1J"
      },
      "execution_count": 53,
      "outputs": []
    },
    {
      "cell_type": "code",
      "source": [
        "y_pred_test = main_predict(model_rf, X_test)"
      ],
      "metadata": {
        "id": "Q4_JYJpzj6Wt"
      },
      "execution_count": 53,
      "outputs": []
    },
    {
      "cell_type": "markdown",
      "source": [
        "[1.349292   0.02345531 1.493971   ... 2.1604116  0.56746817 2.1567235 ]\n",
        "\n",
        "[1.3708328  0.03052545 1.2568147  ... 1.7959648  1.191319   2.2552476 ]\n",
        "\n",
        "[1.1928338 0.        1.1708117 ... 1.6715118 0.7733267 2.1299398] \n",
        "\n",
        "[1.4880942 0.        1.5554705 ... 2.2369733 1.1170461 2.7174017]\n",
        "\n",
        "[1.2262006 0.        1.2064856 ... 2.295832  1.5989244 2.6345596]\n",
        "\n",
        "[1.5844176  0.08636409 1.481134   ... 2.2122295  1.2356842  2.0357199 ]\n",
        "\n",
        "[1.5404915  0.27302527 1.2460707  ... 2.5592794  1.2576457  1.988879  ]\n",
        "\n",
        "[1.407761   0.2403443  1.450003   ... 2.2944968  0.93807536 2.118688  ]\n",
        "\n",
        "[1.3233546  0.25118655 1.2096027  ... 2.3625813  0.9701783  2.2958796 ]\n",
        "\n",
        "[1.2763636  0.12301233 1.252281   ... 2.2097151  0.98875225 2.208721  ]\n",
        "\n",
        "[1.502337   0.24612935 1.5411887  ... 2.7584226  1.2144794  2.8302171 ]\n",
        "\n",
        "[1.2567537 0.1889303 1.3266869 ... 2.694969  1.474322  2.6099062]\n",
        "\n",
        "[1.7418183  0.46445003 1.6588377  ... 2.7982423  1.0723901  2.0506146 ]\n",
        "\n",
        "[1.4414563  0.29573742 1.4942447  ... 2.842886   1.0316128  1.9554635 ]\n",
        "\n",
        "[1.6020162 0.5158969 1.6125051 ... 2.8743644 1.3281498 2.3716846]\n",
        "\n",
        "[1.7183634  0.69999945 1.8148631  ... 3.0161119  1.281531   2.4809952 ]\n"
      ],
      "metadata": {
        "id": "e5IRw0s6lwtp"
      }
    },
    {
      "cell_type": "code",
      "source": [
        "delta_index = 3008016 - 3000888  # we inserted 4 Christmas days, 4 x 54 x 33 = 7128, which is the difference\n",
        "submission = pd.DataFrame({'id': X_test.index - delta_index, 'sales': np.expm1(y_pred_test)})\n",
        "submission.to_csv('submissionxgb.csv', index=False)\n"
      ],
      "metadata": {
        "id": "mf45XSS9lxeC"
      },
      "execution_count": 53,
      "outputs": []
    },
    {
      "cell_type": "code",
      "source": [],
      "metadata": {
        "id": "nD62wmwWmYMI"
      },
      "execution_count": null,
      "outputs": []
    }
  ]
}