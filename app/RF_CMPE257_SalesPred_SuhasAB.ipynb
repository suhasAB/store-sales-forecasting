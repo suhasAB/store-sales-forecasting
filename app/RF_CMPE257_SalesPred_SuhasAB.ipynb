{
  "cells": [
    {
      "cell_type": "code",
      "execution_count": 38,
      "metadata": {
        "id": "sQUL2AKtZX4w"
      },
      "outputs": [],
      "source": [
        "import numpy as np \n",
        "import pandas as pd \n",
        "import matplotlib.pyplot as plt\n",
        "import seaborn as sns\n",
        "import re\n",
        "import xgboost\n",
        "\n",
        "from pandas.api.types import CategoricalDtype\n",
        "\n",
        "from sklearn.preprocessing import OneHotEncoder\n",
        "from sklearn.compose import ColumnTransformer\n",
        "from sklearn.pipeline import Pipeline\n",
        "from sklearn.model_selection import train_test_split\n",
        "from sklearn.metrics import mean_squared_log_error\n",
        "from sklearn.linear_model import LinearRegression\n",
        "from sklearn.ensemble import RandomForestRegressor\n",
        "\n",
        "from statsmodels.graphics.tsaplots import plot_pacf\n",
        "from xgboost import XGBRegressor\n",
        "import lightgbm\n",
        "from sklearn.model_selection import GridSearchCV\n",
        "import joblib\n",
        "import logging"
      ]
    },
    {
      "cell_type": "code",
      "execution_count": 39,
      "metadata": {
        "id": "iPRpLUhUZhZJ"
      },
      "outputs": [],
      "source": [
        "\n",
        "all_csv = pd.read_csv('cleaned.csv.gz',\n",
        "                 dtype = {\n",
        "                     'store_nbr' : 'category',\n",
        "                     'family' : 'category',\n",
        "                     'sales': 'float',\n",
        "                     'city': 'category',\n",
        "                     'state': 'category',\n",
        "                     'type': 'category',\n",
        "                     'holiday_type': 'category',\n",
        "                     'holiday_transferred': 'category'\n",
        "                 },\n",
        "                  parse_dates=['date'])\n",
        "all_csv['date'] = pd.to_datetime(all_csv['date']).dt.to_period('D')"
      ]
    },
    {
      "cell_type": "code",
      "execution_count": 40,
      "metadata": {
        "id": "s2btVMZacmT7"
      },
      "outputs": [],
      "source": [
        "all = all_csv.copy()  # we can start experimenting from here without reloading the csv file"
      ]
    },
    {
      "cell_type": "code",
      "execution_count": 42,
      "metadata": {
        "id": "m1ytbAdfcslc"
      },
      "outputs": [],
      "source": [
        "# this is for experimentation\n",
        "\n",
        "filter_by_stores = None  # note: please use string here (unlike Mine.ipynb)\n",
        "filter_by_family = None\n",
        "filter_by_dates = None\n",
        "\n",
        "#filter_by_stores = ['1', '2']  # note: please use string here (unlike Mine.ipynb)\n",
        "#filter_by_family = ['DAIRY', 'PRODUCE']\n",
        "#filter_by_family = ['']\n",
        "#filter_by_dates = '2014-06-05'\n"
      ]
    },
    {
      "cell_type": "code",
      "execution_count": 43,
      "metadata": {
        "id": "rUm34MFkcmHO"
      },
      "outputs": [],
      "source": [
        "if filter_by_dates == None:\n",
        "    train_start_date = '2013-01-01'\n",
        "else:\n",
        "    train_start_date = filter_by_dates\n",
        "train_end_date = '2017-08-15'\n",
        "test_start_date = '2017-08-16'\n",
        "test_end_date = '2017-08-31'"
      ]
    },
    {
      "cell_type": "code",
      "execution_count": 44,
      "metadata": {
        "id": "BJZukUDFc_ea"
      },
      "outputs": [],
      "source": [
        "\n",
        "if filter_by_family != None:\n",
        "    all = all[all['family'].isin(filter_by_family)]\n",
        "if filter_by_stores != None:\n",
        "    all = all[all['store_nbr'].isin(filter_by_stores)]\n",
        "if filter_by_dates != None:\n",
        "    all = all[all['date'] >= filter_by_dates]"
      ]
    },
    {
      "cell_type": "code",
      "execution_count": 45,
      "metadata": {
        "colab": {
          "base_uri": "https://localhost:8080/"
        },
        "id": "JJHAKdabc4Mb",
        "outputId": "529d6524-5887-4195-f982-e26fa2d74c78"
      },
      "outputs": [
        {
          "name": "stdout",
          "output_type": "stream",
          "text": [
            "<class 'pandas.core.frame.DataFrame'>\n",
            "RangeIndex: 3036528 entries, 0 to 3036527\n",
            "Data columns (total 38 columns):\n",
            " #   Column               Dtype    \n",
            "---  ------               -----    \n",
            " 0   date                 period[D]\n",
            " 1   store_nbr            category \n",
            " 2   family               category \n",
            " 3   sales                float64  \n",
            " 4   onpromotion          int64    \n",
            " 5   sales_lag_01         float64  \n",
            " 6   sales_lag_02         float64  \n",
            " 7   sales_lag_03         float64  \n",
            " 8   sales_lag_04         float64  \n",
            " 9   sales_lag_05         float64  \n",
            " 10  sales_lag_06         float64  \n",
            " 11  sales_lag_07         float64  \n",
            " 12  sales_lag_08         float64  \n",
            " 13  sales_lag_09         float64  \n",
            " 14  sales_lag_10         float64  \n",
            " 15  sales_lag_11         float64  \n",
            " 16  sales_lag_12         float64  \n",
            " 17  sales_lag_13         float64  \n",
            " 18  sales_lag_14         float64  \n",
            " 19  sales_lag_15         float64  \n",
            " 20  sales_lag_16         float64  \n",
            " 21  sales_lag_17         float64  \n",
            " 22  sales_lag_18         float64  \n",
            " 23  sales_lag_19         float64  \n",
            " 24  sales_lag_20         float64  \n",
            " 25  city                 category \n",
            " 26  state                category \n",
            " 27  type                 category \n",
            " 28  cluster              int64    \n",
            " 29  month                int64    \n",
            " 30  day_of_month         int64    \n",
            " 31  day_of_year          int64    \n",
            " 32  week_of_year         int64    \n",
            " 33  day_of_week          int64    \n",
            " 34  weekday              int64    \n",
            " 35  year                 int64    \n",
            " 36  holiday_type         category \n",
            " 37  holiday_transferred  category \n",
            "dtypes: category(7), float64(21), int64(9), period[D](1)\n",
            "memory usage: 738.4 MB\n"
          ]
        }
      ],
      "source": [
        "all.info(verbose=True)"
      ]
    },
    {
      "cell_type": "code",
      "execution_count": 46,
      "metadata": {
        "id": "Yt1yc0atdC3B"
      },
      "outputs": [],
      "source": [
        "def one_hot_encode(df):\n",
        "    return pd.get_dummies(data=df, columns=['store_nbr', 'family', 'city', 'state', 'type',\n",
        "                                     'cluster', 'holiday_type', 'holiday_transferred', 'weekday']) "
      ]
    },
    {
      "cell_type": "code",
      "execution_count": 48,
      "metadata": {
        "id": "xl9CuYZydHxT"
      },
      "outputs": [],
      "source": [
        "all_ohe = one_hot_encode(all)\n",
        "all_ohe = all_ohe.rename(columns = lambda x:re.sub('[^A-Za-z0-9_]+', '', x))  # remove bad char in column names\n",
        "\n",
        "X = all_ohe[all_ohe['date'] <= train_end_date]\n",
        "X = X.drop(['sales'], axis=1)\n",
        "y = all_ohe[['date', 'sales']][all_ohe['date'] <= train_end_date]\n",
        "y.set_index('date', inplace=True)\n",
        "\n",
        "X_test = all_ohe[all_ohe['date'] >= test_start_date]\n",
        "X_test = X_test.drop(['sales'], axis=1)\n",
        "\n",
        "X.drop('date', axis=1, inplace=True)\n",
        "X_test.drop('date', axis=1, inplace=True)\n",
        "y.set_index(X.index, inplace=True)\n",
        "\n",
        "# from sklearn.decomposition import PCA\n",
        "# pca = PCA(n_components=180)\n",
        "# principalComponents = pca.fit_transform(X)\n",
        "# principalDf = pd.DataFrame(data = principalComponents)\n",
        "\n",
        "X_train, X_val, y_train, y_val = train_test_split(X, y, random_state=1)"
      ]
    },
    {
      "cell_type": "markdown",
      "metadata": {
        "id": "k210iGhAWeW7"
      },
      "source": [
        "Random Forest Regressor"
      ]
    },
    {
      "cell_type": "code",
      "execution_count": 34,
      "metadata": {
        "colab": {
          "base_uri": "https://localhost:8080/"
        },
        "id": "hCd7HLVeWY_m",
        "outputId": "e9ac1967-77c6-4dee-9244-8ae31788b360"
      },
      "outputs": [
        {
          "name": "stderr",
          "output_type": "stream",
          "text": [
            "/usr/local/lib/python3.8/dist-packages/sklearn/utils/validation.py:1688: FutureWarning:\n",
            "\n",
            "Feature names only support names that are all strings. Got feature names with dtypes: ['str', 'tuple']. An error will be raised in 1.2.\n",
            "\n"
          ]
        },
        {
          "data": {
            "text/plain": [
              "RandomForestRegressor(n_estimators=225, n_jobs=-1, random_state=5)"
            ]
          },
          "execution_count": 34,
          "metadata": {},
          "output_type": "execute_result"
        }
      ],
      "source": [
        "from sklearn.ensemble import RandomForestRegressor\n",
        "\n",
        "model_rf = RandomForestRegressor(n_estimators = 225, n_jobs=-1, random_state=5)\n",
        "model_rf.fit(X_train, y_train)\n"
      ]
    },
    {
      "cell_type": "markdown",
      "metadata": {
        "id": "q0NBytw1Yonv"
      },
      "source": [
        "Random Forest Evaluation"
      ]
    },
    {
      "cell_type": "code",
      "execution_count": 52,
      "metadata": {
        "id": "ZITQzEuhfZKP"
      },
      "outputs": [],
      "source": [
        "y_pred_train = model_rf.predict(X_train)\n",
        "y_pred_train[y_pred_train < 0] = 0\n",
        "y_pred_val = model_rf.predict(X_val)\n",
        "y_pred_val[y_pred_val < 0] = 0\n",
        "\n"
      ]
    },
    {
      "cell_type": "code",
      "execution_count": 53,
      "metadata": {
        "colab": {
          "base_uri": "https://localhost:8080/"
        },
        "id": "SLSofLMMWg0A",
        "outputId": "dd0ad555-62d8-47c5-85d6-d5af4882073c"
      },
      "outputs": [
        {
          "name": "stdout",
          "output_type": "stream",
          "text": [
            "RMS log-error train:  0.1534829529434426\n",
            "RMS log-error val:  0.15549764095917318\n",
            "RMS log-error train (actual):  0.4455391111780372\n",
            "RMS log-error val (actual):  0.4544472954451142\n"
          ]
        }
      ],
      "source": [
        "print(\"RMS log-error train: \", np.sqrt(mean_squared_log_error(y_train, y_pred_train)))\n",
        "print(\"RMS log-error val: \", np.sqrt(mean_squared_log_error(y_val, y_pred_val)))\n",
        "print(\"RMS log-error train (actual): \",\n",
        "          np.sqrt(mean_squared_log_error(np.expm1(y_train), np.expm1(y_pred_train))))\n",
        "print(\"RMS log-error val (actual): \",\n",
        "          np.sqrt(mean_squared_log_error(np.expm1(y_val), np.expm1(y_pred_val))))"
      ]
    },
    {
      "cell_type": "code",
      "execution_count": 53,
      "metadata": {
        "id": "cp6VBAIB6u1J"
      },
      "outputs": [],
      "source": [
        "def main_predict(model, X_test):\n",
        "    X_test_mod = X_test.copy()\n",
        "    output = np.array([])\n",
        "    start_day, end_day = X_test['day_of_month'].min(), X_test['day_of_month'].max()\n",
        "        # we lost the dates, but we still have day_of_month, which is good enough for our experiment\n",
        "        \n",
        "    for day in range(start_day, end_day + 1):\n",
        "        pred = model.predict(X_test_mod[X_test_mod['day_of_month'] == day])\n",
        "        pred[pred < 0] = 0\n",
        "        print(pred)\n",
        "        output = np.concatenate([output, pred], axis=0)\n",
        "        for future in range(day + 1, end_day + 1):\n",
        "            X_test_mod.loc[X_test_mod[X_test_mod['day_of_month'] == future].index,\n",
        "                           f'sales_lag_{(future - day):02d}'] = pred\n",
        "            # fill out future values now that this sales figure is available\n",
        "            \n",
        "    return output"
      ]
    },
    {
      "cell_type": "code",
      "execution_count": 55,
      "metadata": {},
      "outputs": [
        {
          "name": "stdout",
          "output_type": "stream",
          "text": [
            "[2.87898593 2.00142677 3.41190866 ... 1.71432635 1.84685877 3.40858016]\n",
            "[0.55200858 0.43265692 2.39337453 ... 0.71178262 2.26748601 0.85403901]\n",
            "[2.07503809 3.25801082 0.12817199 ... 2.50208397 2.8094404  3.16514565]\n",
            "[0.69070445 0.063617   2.71970612 ... 1.24199547 1.03847298 3.13571799]\n",
            "[2.27477229 0.87328752 1.15990637 ... 2.05039386 0.81654422 1.07981797]\n",
            "[3.35334077 2.82755436 0.67315839 ... 0.47700917 2.74576169 1.71995474]\n",
            "[2.39164095 2.93977061 3.06528515 ... 2.21278618 2.38289528 2.31924251]\n",
            "[2.31524536 2.91144294 1.00380146 ... 1.2916191  0.36642512 1.6521123]\n",
            "[1.86374573 3.28779725 0.46674664 ... 0.98148559 1.61864471 1.82164357]\n",
            "[2.89191418 0.84684949 2.61592185 ... 0.24182667 3.29670147 3.34128918]\n",
            "[2.82051876 1.60417511 0.36580434 ... 1.21699206 1.56942615 0.6283405]\n",
            "[2.09959235 1.56566406 2.93132792 ... 0.86065851 3.01543831 2.66778904]\n",
            "[1.18831648 1.70224429 2.32219878 ... 1.11162641 2.77446035 1.15720836]\n",
            "[0.24770748 1.00555219 1.20337027 ... 0.03521269 1.91864885 0.61708559]\n",
            "[0.06091002 2.95882396 2.0108573  ... 3.47998184 2.15751127 3.26991094]\n",
            "[0.36173285 2.17990747 2.88004855 ... 1.84170576 2.34936179 0.14772468]\n"
          ]
        }
      ],
      "source": [
        "y_pred_test = main_predict(model_rf, X_test)"
      ]
    },
    {
      "cell_type": "code",
      "execution_count": 57,
      "metadata": {},
      "outputs": [],
      "source": [
        "delta_index = 3008016 - 3000888  # we inserted 4 Christmas days, 4 x 54 x 33 = 7128, which is the difference\n",
        "submission = pd.DataFrame({'id': X_test.index - delta_index, 'sales': np.expm1(y_pred_test)})\n",
        "submission.to_csv('submission_rf.csv', index=False)"
      ]
    }
  ],
  "metadata": {
    "accelerator": "TPU",
    "colab": {
      "provenance": []
    },
    "gpuClass": "standard",
    "kernelspec": {
      "display_name": "Python 3.9.12 64-bit",
      "language": "python",
      "name": "python3"
    },
    "language_info": {
      "codemirror_mode": {
        "name": "ipython",
        "version": 3
      },
      "file_extension": ".py",
      "mimetype": "text/x-python",
      "name": "python",
      "nbconvert_exporter": "python",
      "pygments_lexer": "ipython3",
      "version": "3.9.12"
    },
    "vscode": {
      "interpreter": {
        "hash": "b0fa6594d8f4cbf19f97940f81e996739fb7646882a419484c72d19e05852a7e"
      }
    }
  },
  "nbformat": 4,
  "nbformat_minor": 0
}
